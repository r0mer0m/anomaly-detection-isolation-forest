{
 "cells": [
  {
   "cell_type": "markdown",
   "metadata": {},
   "source": [
    "# Example"
   ]
  },
  {
   "cell_type": "code",
   "execution_count": 1,
   "metadata": {},
   "outputs": [],
   "source": [
    "import pandas as pd\n",
    "import time\n",
    "from iforest import IsolationTreeEnsemble, find_TPR_threshold"
   ]
  },
  {
   "cell_type": "code",
   "execution_count": 2,
   "metadata": {},
   "outputs": [
    {
     "name": "stdout",
     "output_type": "stream",
     "text": [
      "INFO cancer fit time 0.37s\n",
      "INFO cancer 7000 total nodes in 1000 trees\n",
      "INFO cancer score time 0.06s\n"
     ]
    }
   ],
   "source": [
    "n_trees=1000\n",
    "desired_TPR=.75\n",
    "sample_size=5\n",
    "datafile='cancer'\n",
    "improved = True\n",
    "\n",
    "\n",
    "df = pd.read_csv(\"cancer.csv\")\n",
    "N = len(df)\n",
    "df = df.sample(N)\n",
    "X, y = df.drop('diagnosis', axis=1), df['diagnosis']\n",
    "\n",
    "\n",
    "it = IsolationTreeEnsemble(sample_size=sample_size, n_trees=n_trees,)\n",
    "\n",
    "fit_start = time.time()\n",
    "it.fit(X, improved=improved)\n",
    "fit_stop = time.time()\n",
    "fit_time = fit_stop - fit_start\n",
    "print(f\"INFO {datafile} fit time {fit_time:3.2f}s\")\n",
    "\n",
    "n_nodes = sum([t.n_nodes for t in it.trees])\n",
    "print(f\"INFO {datafile} {n_nodes} total nodes in {n_trees} trees\")\n",
    "\n",
    "score_start = time.time()\n",
    "scores = it.anomaly_score(X)\n",
    "score_stop = time.time()\n",
    "score_time = score_stop - score_start\n",
    "print(f\"INFO {datafile} score time {score_time:3.2f}s\")\n",
    "\n",
    "threshold, FPR = find_TPR_threshold(y, scores, desired_TPR)\n",
    "\n",
    "y_pred = it.predict_from_anomaly_scores(scores, threshold=threshold)"
   ]
  }
 ],
 "metadata": {
  "kernelspec": {
   "display_name": "Python 3",
   "language": "python",
   "name": "python3"
  },
  "language_info": {
   "codemirror_mode": {
    "name": "ipython",
    "version": 3
   },
   "file_extension": ".py",
   "mimetype": "text/x-python",
   "name": "python",
   "nbconvert_exporter": "python",
   "pygments_lexer": "ipython3",
   "version": "3.6.8"
  }
 },
 "nbformat": 4,
 "nbformat_minor": 2
}
